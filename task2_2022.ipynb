{
 "cells": [
  {
   "cell_type": "markdown",
   "metadata": {
    "id": "WsVUrFkls3iw"
   },
   "source": [
    "# <a href=\"https://mipt-stats.gitlab.io/courses/ad_mipt.html\">Phystech@DataScience</a>\n",
    "## Задание 2\n",
    "\n",
    "**Правила:**\n",
    "\n",
    "* Выполненную работу нужно отправить телеграм-боту.\n",
    "* Дедлайн **23 февраля в 15:00 (отбор)**. После дедлайна работы не принимаются кроме случаев наличия уважительной причины с подтверждающими документами.\n",
    "* Прислать нужно ноутбук в формате `ipynb` \n",
    "* Решения, размещенные на каких-либо интернет-ресурсах, не принимаются. Публикация решения может быть приравнена к предоставлении возможности списать.\n",
    "* Для выполнения задания используйте этот ноутбук в качествие основы, ничего не удаляя из него.\n",
    "\n",
    "-----"
   ]
  },
  {
   "cell_type": "code",
   "execution_count": 1,
   "metadata": {
    "id": "y9F9cOSRkh3_"
   },
   "outputs": [],
   "source": [
    "import numpy as np\n",
    "import pandas as pd\n",
    "from sklearn.datasets import load_diabetes\n",
    "from sklearn.model_selection import train_test_split\n",
    "from sklearn.linear_model import LinearRegression\n",
    "\n",
    "import matplotlib.pyplot as plt\n",
    "import seaborn as sns\n",
    "sns.set(font_scale=1.3)"
   ]
  },
  {
   "cell_type": "markdown",
   "metadata": {
    "id": "9tUvzn2cj31C"
   },
   "source": [
    "Рассмотрим данные исследования 2004 года о зависимости риска развития диабета от пола, возраста, индекса массы тела, среднего кровяного давления и других показателей. \n",
    "\n",
    "Функция `sklearn.datasets.load_diabetes()` возвращает словарь. В поле `data` записана матрица регрессоров, в которой данные предварительно центрированы и нормированы. В поле `target` записана мера прогрессирования заболевания в течении года. В поле `DESCR` можно прочитать подробнее о данных."
   ]
  },
  {
   "cell_type": "markdown",
   "metadata": {
    "id": "w5gc2rJNj31I"
   },
   "source": [
    "### Загрузка данных"
   ]
  },
  {
   "cell_type": "code",
   "execution_count": 2,
   "metadata": {
    "id": "b6QhMHdJk0ro"
   },
   "outputs": [],
   "source": [
    "data = load_diabetes()"
   ]
  },
  {
   "cell_type": "markdown",
   "metadata": {
    "id": "FuPQNa2qkyxi"
   },
   "source": [
    "Посмотрим на описание датасета."
   ]
  },
  {
   "cell_type": "code",
   "execution_count": 3,
   "metadata": {
    "colab": {
     "base_uri": "https://localhost:8080/"
    },
    "id": "tqFH1K8Jj31J",
    "outputId": "699a32c1-613a-4e1c-f0b6-0fdb9b79caf6"
   },
   "outputs": [
    {
     "name": "stdout",
     "output_type": "stream",
     "text": [
      ".. _diabetes_dataset:\n",
      "\n",
      "Diabetes dataset\n",
      "----------------\n",
      "\n",
      "Ten baseline variables, age, sex, body mass index, average blood\n",
      "pressure, and six blood serum measurements were obtained for each of n =\n",
      "442 diabetes patients, as well as the response of interest, a\n",
      "quantitative measure of disease progression one year after baseline.\n",
      "\n",
      "**Data Set Characteristics:**\n",
      "\n",
      "  :Number of Instances: 442\n",
      "\n",
      "  :Number of Attributes: First 10 columns are numeric predictive values\n",
      "\n",
      "  :Target: Column 11 is a quantitative measure of disease progression one year after baseline\n",
      "\n",
      "  :Attribute Information:\n",
      "      - Age\n",
      "      - Sex\n",
      "      - Body mass index\n",
      "      - Average blood pressure\n",
      "      - S1\n",
      "      - S2\n",
      "      - S3\n",
      "      - S4\n",
      "      - S5\n",
      "      - S6\n",
      "\n",
      "Note: Each of these 10 feature variables have been mean centered and scaled by the standard deviation times `n_samples` (i.e. the sum of squares of each column totals 1).\n",
      "\n",
      "Source URL:\n",
      "https://www4.stat.ncsu.edu/~boos/var.select/diabetes.html\n",
      "\n",
      "For more information see:\n",
      "Bradley Efron, Trevor Hastie, Iain Johnstone and Robert Tibshirani (2004) \"Least Angle Regression,\" Annals of Statistics (with discussion), 407-499.\n",
      "(https://web.stanford.edu/~hastie/Papers/LARS/LeastAngle_2002.pdf)\n"
     ]
    }
   ],
   "source": [
    "print(data['DESCR'])"
   ]
  },
  {
   "cell_type": "markdown",
   "metadata": {
    "id": "vkYw4mddj31K"
   },
   "source": [
    "Поле `data` содержит матрицу размера 442 $\\times$ 10, где 442 — количество пациентов, а 10 — количество признаков (возраст, пол, и т.д.). \n",
    "Строки матрицы соответствуют пациентам, столбцы — признакам."
   ]
  },
  {
   "cell_type": "code",
   "execution_count": 4,
   "metadata": {
    "colab": {
     "base_uri": "https://localhost:8080/"
    },
    "id": "_y9bUW6Pj31K",
    "outputId": "2dd98a64-5bfa-498e-8b22-29d35234cb85",
    "scrolled": true
   },
   "outputs": [
    {
     "data": {
      "text/plain": [
       "(442, 10)"
      ]
     },
     "execution_count": 4,
     "metadata": {},
     "output_type": "execute_result"
    }
   ],
   "source": [
    "data['data'].shape"
   ]
  },
  {
   "cell_type": "markdown",
   "metadata": {
    "id": "gs9ZtWmhj31K"
   },
   "source": [
    "Целевая переменная $-$ мера прогрессирования заболевания в течении года.\n"
   ]
  },
  {
   "cell_type": "code",
   "execution_count": 5,
   "metadata": {
    "colab": {
     "base_uri": "https://localhost:8080/"
    },
    "id": "UkcxB5GAj31L",
    "outputId": "594f34f4-c4aa-4756-866b-95a25144b022"
   },
   "outputs": [
    {
     "data": {
      "text/plain": [
       "(442,)"
      ]
     },
     "execution_count": 5,
     "metadata": {},
     "output_type": "execute_result"
    }
   ],
   "source": [
    "data['target'].shape"
   ]
  },
  {
   "cell_type": "markdown",
   "metadata": {
    "id": "XaklAuUDj31L"
   },
   "source": [
    "Создайте матрицу регрессоров $X$ и столбец наблюдений $y$."
   ]
  },
  {
   "cell_type": "code",
   "execution_count": 6,
   "metadata": {
    "id": "klYxszn-j31L"
   },
   "outputs": [],
   "source": [
    "X, y = data['data'] , data['target']"
   ]
  },
  {
   "cell_type": "markdown",
   "metadata": {
    "id": "CZRXHc0-j31L"
   },
   "source": [
    "### Обучение моделей\n",
    "\n",
    "Разбейте данные случайно на две части — обучающую и тестовую в соотношении 80:20.\n",
    "\n",
    "Если что-то забыли или что-то не понятно, можно почитать справку:"
   ]
  },
  {
   "cell_type": "code",
   "execution_count": 7,
   "metadata": {
    "id": "W480aZfXj31M"
   },
   "outputs": [],
   "source": [
    "train_test_split?"
   ]
  },
  {
   "cell_type": "code",
   "execution_count": 8,
   "metadata": {
    "id": "BUf0Wl9uj31M"
   },
   "outputs": [
    {
     "name": "stdout",
     "output_type": "stream",
     "text": [
      "(353, 10) (89, 10) (353,) (89,)\n"
     ]
    }
   ],
   "source": [
    "X_train, X_test, y_train, y_test = train_test_split(X, y, test_size=0.2, train_size=0.8)\n",
    "\n",
    "print(X_train.shape, X_test.shape, y_train.shape, y_test.shape)"
   ]
  },
  {
   "cell_type": "markdown",
   "metadata": {
    "id": "L8f5Sw7Aj31M"
   },
   "source": [
    "Заведите модель линейной регрессии из `sklearn` и обучите ее по обучающей части данных."
   ]
  },
  {
   "cell_type": "code",
   "execution_count": 9,
   "metadata": {
    "id": "vn0JJh6Tj31M"
   },
   "outputs": [
    {
     "data": {
      "text/plain": [
       "LinearRegression(copy_X=True, fit_intercept=True, n_jobs=None, normalize=False)"
      ]
     },
     "execution_count": 9,
     "metadata": {},
     "output_type": "execute_result"
    }
   ],
   "source": [
    "model = LinearRegression()\n",
    "model.fit(X_train, y_train)"
   ]
  },
  {
   "cell_type": "markdown",
   "metadata": {
    "id": "unlbAxTYj31N"
   },
   "source": [
    "Выведите кооэффициенты модели, включая свободный член."
   ]
  },
  {
   "cell_type": "code",
   "execution_count": 10,
   "metadata": {
    "id": "_JP9ZiDpj31N"
   },
   "outputs": [
    {
     "name": "stdout",
     "output_type": "stream",
     "text": [
      "Коэффициенты: [   26.48101942  -221.37101405   528.72060618   365.57179946\n",
      " -1208.72221431   732.26776666   363.13377913   332.68801258\n",
      "   874.6300328     60.65640567] \n",
      " Свободный член: 152.64238983965615\n"
     ]
    }
   ],
   "source": [
    "print(f'Коэффициенты: {model.coef_}','\\n', f'Свободный член: {model.intercept_}')"
   ]
  },
  {
   "cell_type": "markdown",
   "metadata": {
    "id": "ZMj2MTgdj31N"
   },
   "source": [
    "Посчитайте предсказания построенной модели на тестовой выборке"
   ]
  },
  {
   "cell_type": "code",
   "execution_count": 11,
   "metadata": {
    "id": "4WB74enfj31O"
   },
   "outputs": [],
   "source": [
    "y_pred = model.predict(X_test)"
   ]
  },
  {
   "cell_type": "markdown",
   "metadata": {
    "id": "wDTfApjPWPrr"
   },
   "source": [
    "Реализуйте метрики MSE, MAE, MAPE без использования `sklearn` и других готовых реализаций."
   ]
  },
  {
   "cell_type": "code",
   "execution_count": 12,
   "metadata": {
    "id": "yAY5KO-jWU6S"
   },
   "outputs": [],
   "source": [
    "def mean_squared_error(y_true, y_pred):\n",
    "    return ((y_true - y_pred)**2).mean()\n",
    "\n",
    "def mean_absolute_error(y_true, y_pred):\n",
    "    return(np.absolute(y_true - y_pred)).mean()\n",
    "\n",
    "def mean_absolute_percentage_error(y_true, y_pred):\n",
    "    return(np.absolute(1-y_pred/y_true)).mean()*100"
   ]
  },
  {
   "cell_type": "markdown",
   "metadata": {
    "id": "VJfAkTn4j31O"
   },
   "source": [
    "Посчитайте MSE, MAE, MAPE на тестовой выборке и выведите с точностью до трех знаков после запятой."
   ]
  },
  {
   "cell_type": "code",
   "execution_count": 13,
   "metadata": {
    "id": "JkatiS-2j31O"
   },
   "outputs": [
    {
     "name": "stdout",
     "output_type": "stream",
     "text": [
      "MSE:  3557.448\n",
      "MAE:  48.217\n",
      "MAPE:  43.962\n"
     ]
    }
   ],
   "source": [
    "print(f\"MSE: {mean_squared_error(y_test, y_pred): .3f}\")\n",
    "print(f\"MAE: {mean_absolute_error(y_test, y_pred): .3f}\")\n",
    "print(f\"MAPE: {mean_absolute_percentage_error(y_test, y_pred): .3f}\")"
   ]
  },
  {
   "cell_type": "markdown",
   "metadata": {
    "id": "-EeYuy9q6iFu"
   },
   "source": [
    "###Своя реализация модели"
   ]
  },
  {
   "cell_type": "markdown",
   "metadata": {
    "id": "MadkefHAolFy"
   },
   "source": [
    "Теперь реализуем линейную регрессию самостоятельно, используя формулы с лекции.\n",
    "Вам нужно только заполнить прочерки в методах `fit` и `predict`."
   ]
  },
  {
   "cell_type": "code",
   "execution_count": 19,
   "metadata": {
    "id": "pYxZ7sIKokot"
   },
   "outputs": [],
   "source": [
    "class MyLinearRegression:\n",
    "    \"\"\"\n",
    "    Класс, реализующий линейную регрессию c помощью МНК.\n",
    "    \"\"\"\n",
    "    \n",
    "    def __init__(self):\n",
    "        pass\n",
    "        \n",
    "    def fit(self, X, Y):\n",
    "        \"\"\"\n",
    "        Функция обучения модели. \n",
    "        \n",
    "        Предполагается модель Y = X * theta + epsilon. \n",
    "        где X --- регрессор (матрица размера n x d), \n",
    "        Y --- отклик (матрица размера n x 1),\n",
    "        epsilon-ы имеют нормальное распределение\n",
    "\n",
    "        Обратите внимание, здесь нет intercept_\n",
    "        \"\"\"\n",
    "        \n",
    "        self.n, self.d = X.shape[0], X.shape[1]\n",
    "        \n",
    "        self.theta = np.dot(np.linalg.inv(np.dot(X.T,X)),X.T).dot(Y)\n",
    "  \n",
    "        return self\n",
    "    \n",
    "        \n",
    "    def predict(self, X):\n",
    "        \"\"\"\n",
    "        Возвращает предсказание отклика на новых объектах X \n",
    "        и опционально доверительный/предсказательный интервал.\n",
    "        \n",
    "        X --- матрица объектов размера n x d\n",
    "                        \n",
    "        \"\"\"\n",
    "        \n",
    "        y_pred = np.dot(X,self.theta)\n",
    "        return y_pred"
   ]
  },
  {
   "cell_type": "markdown",
   "metadata": {
    "id": "wpnJWn-gpzM7"
   },
   "source": [
    "Обучите вашу модель на данных о диабете с добавлением свободного члена.\n",
    "Распечатайте коэффициенты и сравните их с коэффициентами модели из `sklearn`."
   ]
  },
  {
   "cell_type": "code",
   "execution_count": 23,
   "metadata": {
    "id": "atvrQ4N1pSdB"
   },
   "outputs": [
    {
     "name": "stdout",
     "output_type": "stream",
     "text": [
      "Коэффициенты модели из sklearn:\n",
      " 152.64238983965615 [   26.48101942  -221.37101405   528.72060618   365.57179946\n",
      " -1208.72221431   732.26776666   363.13377913   332.68801258\n",
      "   874.6300328     60.65640567]\n",
      "Коэффициенты моей модели со свободным членом:\n",
      " [  152.64238984    26.48101942  -221.37101405   528.72060618\n",
      "   365.57179946 -1208.72221431   732.26776666   363.13377913\n",
      "   332.68801258   874.6300328     60.65640567]\n"
     ]
    }
   ],
   "source": [
    "my = MyLinearRegression()\n",
    "\n",
    "X_train_intercept = np.column_stack((np.ones(X_train.shape[0]), X_train))\n",
    "\n",
    "my.fit(X_train_intercept, y_train)\n",
    "X_test_intercept=np.column_stack((np.ones(X_test.shape[0]), X_test))\n",
    "y_pred_intercept = my.predict(X_test_intercept)\n",
    "\n",
    "print('Коэффициенты модели из sklearn:\\n', model.intercept_, model.coef_)\n",
    "print('Коэффициенты моей модели со свободным членом:\\n', my.theta)"
   ]
  },
  {
   "cell_type": "markdown",
   "metadata": {
    "id": "BfNuu7Wcq0AP"
   },
   "source": [
    "Теперь обучите модель без свободного члена."
   ]
  },
  {
   "cell_type": "code",
   "execution_count": 24,
   "metadata": {
    "id": "cERxmrdyYIoa"
   },
   "outputs": [
    {
     "name": "stdout",
     "output_type": "stream",
     "text": [
      "Коэффициенты модели из sklearn:\n",
      " [   26.48101942  -221.37101405   528.72060618   365.57179946\n",
      " -1208.72221431   732.26776666   363.13377913   332.68801258\n",
      "   874.6300328     60.65640567]\n",
      "Коэффициенты моей модели без свободного члена:\n",
      " [  152.64238984    26.48101942  -221.37101405   528.72060618\n",
      "   365.57179946 -1208.72221431   732.26776666   363.13377913\n",
      "   332.68801258   874.6300328     60.65640567]\n"
     ]
    }
   ],
   "source": [
    "my1 = MyLinearRegression()\n",
    "my1.fit(X_train, y_train)\n",
    "y_pred_mnk = my1.predict(X_test)\n",
    "print('Коэффициенты модели из sklearn:\\n', model.coef_)\n",
    "print('Коэффициенты моей модели без свободного члена:\\n', my.theta)"
   ]
  },
  {
   "cell_type": "markdown",
   "metadata": {
    "id": "qN-iGWbzrLC3"
   },
   "source": [
    "Сравните качество моделей со свободным членом и без него на тестовой выборке."
   ]
  },
  {
   "cell_type": "code",
   "execution_count": 25,
   "metadata": {
    "id": "fW8UvbANqm3X"
   },
   "outputs": [
    {
     "name": "stdout",
     "output_type": "stream",
     "text": [
      "Коэффициенты модели из sklearn:\n",
      " [   26.48101942  -221.37101405   528.72060618   365.57179946\n",
      " -1208.72221431   732.26776666   363.13377913   332.68801258\n",
      "   874.6300328     60.65640567]\n",
      "Коэффициенты моей модели без свободного члена:\n",
      " [  15.63806159 -160.76710941  559.95658938  439.03378259 -921.0592633\n",
      "  588.03176502  184.87589853  157.80200923  806.14953877   71.47086491]\n"
     ]
    }
   ],
   "source": [
    "print('Коэффициенты модели из sklearn:\\n',model.coef_)\n",
    "print('Коэффициенты моей модели без свободного члена:\\n', my1.theta)\n",
    "\n"
   ]
  },
  {
   "cell_type": "code",
   "execution_count": 27,
   "metadata": {},
   "outputs": [
    {
     "name": "stdout",
     "output_type": "stream",
     "text": [
      "MSE without intercept: 26482.196\n",
      "MAE without intercept: 151.227\n",
      "MAPE without intercept: 121.297\n",
      "MSE with intercept: 3557.448\n",
      "MAE with intercept: 48.217\n",
      "MAPE with intercept: 43.962\n"
     ]
    }
   ],
   "source": [
    "\n",
    "print(f\"MSE without intercept: {mean_squared_error(y_test, y_pred_mnk) :.3f}\")\n",
    "print(f\"MAE without intercept: {mean_absolute_error(y_test, y_pred_mnk) :.3f}\")\n",
    "print(f\"MAPE without intercept: {mean_absolute_percentage_error(y_test, y_pred_mnk) :.3f}\")\n",
    "\n",
    "print(f\"MSE with intercept: {mean_squared_error(y_test, y_pred_intercept) :.3f}\")\n",
    "print(f\"MAE with intercept: {mean_absolute_error(y_test, y_pred_intercept) :.3f}\")\n",
    "print(f\"MAPE with intercept: {mean_absolute_percentage_error(y_test, y_pred_intercept) :.3f}\")"
   ]
  },
  {
   "cell_type": "markdown",
   "metadata": {
    "id": "TpllTM-HYN2F"
   },
   "source": [
    "Сделайте выводы.\n",
    "\n",
    "Вывод в том, что по всей видимости в реальности наши наблюдения имеют свободный член, поэтому методом построения МНК без свободного члена наблюдения будет трудно предсказать. Вообще говоря, при построении модели МНК всегда стоит пользоваться моделью со свободным членом(пусть он занулится если что)"
   ]
  },
  {
   "cell_type": "code",
   "execution_count": null,
   "metadata": {
    "id": "VN5vFgAxYOyI"
   },
   "outputs": [],
   "source": []
  }
 ],
 "metadata": {
  "colab": {
   "collapsed_sections": [],
   "name": "task2_2022",
   "provenance": []
  },
  "kernelspec": {
   "display_name": "Python 3",
   "language": "python",
   "name": "python3"
  },
  "language_info": {
   "codemirror_mode": {
    "name": "ipython",
    "version": 3
   },
   "file_extension": ".py",
   "mimetype": "text/x-python",
   "name": "python",
   "nbconvert_exporter": "python",
   "pygments_lexer": "ipython3",
   "version": "3.7.3"
  }
 },
 "nbformat": 4,
 "nbformat_minor": 1
}
