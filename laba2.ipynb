{
 "cells": [
  {
   "cell_type": "markdown",
   "metadata": {},
   "source": [
    "# Домашняя работа №2 (Курс \"Advanced Python\")\n",
    "## ФИО:Держаев Антон Андреевич"
   ]
  },
  {
   "cell_type": "markdown",
   "metadata": {},
   "source": [
    "**Тема:** Функции в Python  \n",
    "**Выдана:** 16.09  \n",
    "**Дедлайн выполнения:**  22.09  "
   ]
  },
  {
   "cell_type": "code",
   "execution_count": null,
   "metadata": {},
   "outputs": [],
   "source": []
  },
  {
   "cell_type": "code",
   "execution_count": null,
   "metadata": {},
   "outputs": [],
   "source": []
  },
  {
   "cell_type": "markdown",
   "metadata": {},
   "source": [
    "Правила: Результат выполнения задания - отчет в формате Jupyter Notebook с кодом и выводами. В ходе выполнения задания требуется реализовать все необходимые алгоритмы, провести эксперименты и ответить на поставленные вопросы. Дополнительные выводы приветствуются. Чем меньше кода и больше комментариев - тем лучше.\n",
    "\n",
    "Все ячейки должны быть \"выполненными\", при этом результат должен воспроизвдиться при проверке.\n",
    "\n",
    "Задание выполняется самостоятельно. Если вы нашли в Интернете какой-то код, который собираетесь заимствовать, обязательно укажите это в задании. Если вы советовались с товарищем и/или позаимствовали его решение, обязательно укажите об этом в отчете. Нет ничего плохого в том, что вы пытаетесь разобраться и помогаете друг другу; плохо - когда вы скрываете это и выдаете чужие заслуги за свои. При обнаружении списывания ВСЕМ студентам, имеющим одинаковые списанные решения будет выставлен ОТРИЦАТЕЛЬНЫЙ балл (т.е если задача стоит 4 балла, вы получите не 0, а -4), \"оригинал\" искаться не будет\n",
    "\n",
    "Задание, сданное после жесткого дедлайна, не принимается."
   ]
  },
  {
   "cell_type": "markdown",
   "metadata": {},
   "source": [
    "### Задача 1: (2 балла)"
   ]
  },
  {
   "cell_type": "markdown",
   "metadata": {},
   "source": [
    "Реализуйте функцию, которая будет вычислять количество различных объектов в переданном ей списке.   \n",
    "Два объекта a и b считаются различными, если a is b равно False."
   ]
  },
  {
   "cell_type": "code",
   "execution_count": 2,
   "metadata": {},
   "outputs": [
    {
     "name": "stdout",
     "output_type": "stream",
     "text": [
      "2\n"
     ]
    }
   ],
   "source": [
    "def povtor(spisok):\n",
    "    a=[]\n",
    "    for elem in spisok:\n",
    "        q=0\n",
    "        for obj in a:\n",
    "            if obj is elem:\n",
    "                q+=1\n",
    "        if q==0:\n",
    "            a.append(elem)\n",
    "    return len(a)    \n",
    "l=[[1]]*5\n",
    "l.append('abc')\n",
    "print(povtor(l))"
   ]
  },
  {
   "cell_type": "markdown",
   "metadata": {},
   "source": [
    "### Задача 2: (1 балл)\n",
    "Реализуйте функцию, которая будет вычислять количество различных объектов среди переданных ей аргументов.   \n",
    "Два объекта a и b считаются различными, если a is b равно False.    "
   ]
  },
  {
   "cell_type": "code",
   "execution_count": 3,
   "metadata": {},
   "outputs": [
    {
     "name": "stdout",
     "output_type": "stream",
     "text": [
      "5\n"
     ]
    }
   ],
   "source": [
    "def povtor(spisok):\n",
    "    a=[]\n",
    "    for elem in spisok:\n",
    "        q=0\n",
    "        for obj in a:\n",
    "            if obj is elem:\n",
    "                q+=1\n",
    "        if q==0:\n",
    "            a.append(elem)\n",
    "    return len(a)  \n",
    "def arg(*args,**kwargs):\n",
    "    l=list(args)\n",
    "    for elem in kwargs:\n",
    "        l.append(kwargs[elem])    \n",
    "    return povtor(l)    \n",
    "a=[[1]]*2\n",
    "a.append(7)\n",
    "print(arg(1,8,9,[1],b=8,c=10))"
   ]
  },
  {
   "cell_type": "markdown",
   "metadata": {},
   "source": [
    "### Задача 3: (2 балла)\n",
    "Реализуйте функцию, которая будет вычислять общее количество различных объектов, которые содержатся в ее аргументах, т.е например  \n",
    "n_different([0, 1, 2], [[2, 3, 4], [5 , 6]], 6) == 7 (за числа) + 1 (за первый лист) + 2 (за два вложенных листа во втором аргументе) + 1 (за лист из второго аргумента)\n",
    "\n",
    "Ваша функция должна КАК МИНИМУМ корректно обрабатывать все встроенные стандартные типы данных  \n",
    "Вам может пригодиться модуль collections.abc, а также isinstance"
   ]
  },
  {
   "cell_type": "code",
   "execution_count": 4,
   "metadata": {},
   "outputs": [
    {
     "name": "stdout",
     "output_type": "stream",
     "text": [
      "[[0, 1, 2], [[2, 3, 4], [5, 6]], 6, 0, 1, 2, [2, 3, 4], [5, 6], 3, 4, 5]\n",
      "11\n"
     ]
    }
   ],
   "source": [
    "a=[]\n",
    "def unpack_mass(mass,elem):\n",
    "    for i in range(len(elem)):    #функция вскрывающая массивы, вообще говоря if'ы в програме далее нужны под все типы данных, как и функции нужны раскрывающие не только массивы, но я ограничился ими\n",
    "        mass.append(elem[i])\n",
    "    return mass  \n",
    "def povtor(spisok,array_razlich):\n",
    "    for elem in spisok:\n",
    "        q=0\n",
    "        for obj in array_razlich:\n",
    "            if obj is elem:\n",
    "                q+=1\n",
    "        if q==0:\n",
    "            array_razlich.append(elem)\n",
    "    return array_razlich \n",
    "def n_different(*args,**kwargs):\n",
    "    l=list(args)\n",
    "    for elem in kwargs:\n",
    "        l.append(kwargs[elem])    \n",
    "    povtor(l,a)\n",
    "    for i in range (len(l)):\n",
    "        if isinstance(l[i],list)==True:\n",
    "            unpack_mass(l,l[i])\n",
    "            povtor(l,a)\n",
    "            for i in range (len(l)):\n",
    "                if isinstance(l[i],list)==True:     #тут надо было зарекурсироваться, но с моим кодом как-то это не получается\n",
    "                    unpack_mass(l,l[i])             #либо всю прогу переписывать. фактически моим результатамтстала стала прога, которая\n",
    "                    povtor(l,a)                     #вскрывает двойные массивы внутри массива данных(подходит для примера), если тройные\n",
    "    print(a)                                        #понадабятся сюда можно дописать один цикл for и тд... Это проще, чем все переделывать\n",
    "    return len(a)                                   #а прогу полностью переписать, к сожалению, не успею :()\n",
    "test=[1]*2\n",
    "test.append([3])\n",
    "print(n_different([0, 1, 2], [[2, 3, 4], [5 , 6]], 6))      #оставил вывод массива различных объектов, чтоб было видно, что все правильно происходит, а не подгоняется"
   ]
  },
  {
   "cell_type": "markdown",
   "metadata": {},
   "source": [
    "### Упражнение 1:\n",
    "Еще раз разберитесь, как и чему присваиваются аргументы в функциях. Подумайте, что будет выдавать каждый из вызовов ниже, а потом убедитесь в правильности своего понимания  \n",
    "```python\n",
    "def illustrate(a, *params, b=10):\n",
    "    print(\"a=\", a)              #выводит значение a\n",
    "    \n",
    "    print(\"params=\", end=\"\")    #выводит содержимое params\n",
    "    for elem in params:\n",
    "        print(elem, end=\"\")     #обратите внимание, у принта как раз и есть этот\n",
    "    print()                     #параметр end, до которого можно достучаться только непосредственным его указанием\n",
    "    \n",
    "    print(\"b=\", b)              #выводит значение b\n",
    "    \n",
    "illustrate(1, 2, 3, 4)\n",
    "illustrate(1, 2, b=3)\n",
    "illustrate(1, 2)\n",
    "illustrate(1)\n",
    "illustrate(b=1, 2)\n",
    "illustrate([1,2,3,4,5])\n",
    "illustrate(*[1,2,3,4,5])\n",
    "illustrate(**{\"a\":1, \"b\":5})\n",
    "illustrate(*{\"a\":1, \"b\":5})\n",
    "illustrate({\"a\":1, \"b\":5})\n",
    "illustrate(*{\"a\", \"b\"})\n",
    "illustrate({\"a\", \"b\"})\n",
    "```"
   ]
  },
  {
   "cell_type": "code",
   "execution_count": null,
   "metadata": {},
   "outputs": [],
   "source": []
  },
  {
   "cell_type": "code",
   "execution_count": null,
   "metadata": {},
   "outputs": [],
   "source": []
  },
  {
   "cell_type": "code",
   "execution_count": null,
   "metadata": {},
   "outputs": [],
   "source": []
  }
 ],
 "metadata": {
  "kernelspec": {
   "display_name": "Python 3",
   "language": "python",
   "name": "python3"
  },
  "language_info": {
   "codemirror_mode": {
    "name": "ipython",
    "version": 3
   },
   "file_extension": ".py",
   "mimetype": "text/x-python",
   "name": "python",
   "nbconvert_exporter": "python",
   "pygments_lexer": "ipython3",
   "version": "3.7.3"
  }
 },
 "nbformat": 4,
 "nbformat_minor": 2
}
